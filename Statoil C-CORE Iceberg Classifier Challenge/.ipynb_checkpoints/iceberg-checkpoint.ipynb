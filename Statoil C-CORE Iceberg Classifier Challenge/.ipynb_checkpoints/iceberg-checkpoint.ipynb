{
 "cells": [
  {
   "cell_type": "code",
   "execution_count": 70,
   "metadata": {},
   "outputs": [],
   "source": [
    "import pandas as pd\n",
    "import numpy as np\n",
    "import keras as K"
   ]
  },
  {
   "cell_type": "code",
   "execution_count": 71,
   "metadata": {},
   "outputs": [
    {
     "name": "stdout",
     "output_type": "stream",
     "text": [
      "<class 'pandas.core.frame.DataFrame'>\n",
      "RangeIndex: 1604 entries, 0 to 1603\n",
      "Data columns (total 5 columns):\n",
      "band_1        1604 non-null object\n",
      "band_2        1604 non-null object\n",
      "id            1604 non-null object\n",
      "inc_angle     1604 non-null object\n",
      "is_iceberg    1604 non-null int64\n",
      "dtypes: int64(1), object(4)\n",
      "memory usage: 62.7+ KB\n"
     ]
    },
    {
     "data": {
      "text/html": [
       "<div>\n",
       "<style scoped>\n",
       "    .dataframe tbody tr th:only-of-type {\n",
       "        vertical-align: middle;\n",
       "    }\n",
       "\n",
       "    .dataframe tbody tr th {\n",
       "        vertical-align: top;\n",
       "    }\n",
       "\n",
       "    .dataframe thead th {\n",
       "        text-align: right;\n",
       "    }\n",
       "</style>\n",
       "<table border=\"1\" class=\"dataframe\">\n",
       "  <thead>\n",
       "    <tr style=\"text-align: right;\">\n",
       "      <th></th>\n",
       "      <th>band_1</th>\n",
       "      <th>band_2</th>\n",
       "      <th>id</th>\n",
       "      <th>inc_angle</th>\n",
       "      <th>is_iceberg</th>\n",
       "    </tr>\n",
       "  </thead>\n",
       "  <tbody>\n",
       "    <tr>\n",
       "      <th>0</th>\n",
       "      <td>[-27.878360999999998, -27.15416, -28.668615, -...</td>\n",
       "      <td>[-27.154118, -29.537888, -31.0306, -32.190483,...</td>\n",
       "      <td>dfd5f913</td>\n",
       "      <td>43.9239</td>\n",
       "      <td>0</td>\n",
       "    </tr>\n",
       "    <tr>\n",
       "      <th>1</th>\n",
       "      <td>[-12.242375, -14.920304999999999, -14.920363, ...</td>\n",
       "      <td>[-31.506321, -27.984554, -26.645678, -23.76760...</td>\n",
       "      <td>e25388fd</td>\n",
       "      <td>38.1562</td>\n",
       "      <td>0</td>\n",
       "    </tr>\n",
       "    <tr>\n",
       "      <th>2</th>\n",
       "      <td>[-24.603676, -24.603714, -24.871029, -23.15277...</td>\n",
       "      <td>[-24.870956, -24.092632, -20.653963, -19.41104...</td>\n",
       "      <td>58b2aaa0</td>\n",
       "      <td>45.2859</td>\n",
       "      <td>1</td>\n",
       "    </tr>\n",
       "    <tr>\n",
       "      <th>3</th>\n",
       "      <td>[-22.454607, -23.082819, -23.998013, -23.99805...</td>\n",
       "      <td>[-27.889421, -27.519794, -27.165262, -29.10350...</td>\n",
       "      <td>4cfc3a18</td>\n",
       "      <td>43.8306</td>\n",
       "      <td>0</td>\n",
       "    </tr>\n",
       "    <tr>\n",
       "      <th>4</th>\n",
       "      <td>[-26.006956, -23.164886, -23.164886, -26.89116...</td>\n",
       "      <td>[-27.206915, -30.259186, -30.259186, -23.16495...</td>\n",
       "      <td>271f93f4</td>\n",
       "      <td>35.6256</td>\n",
       "      <td>0</td>\n",
       "    </tr>\n",
       "  </tbody>\n",
       "</table>\n",
       "</div>"
      ],
      "text/plain": [
       "                                              band_1  \\\n",
       "0  [-27.878360999999998, -27.15416, -28.668615, -...   \n",
       "1  [-12.242375, -14.920304999999999, -14.920363, ...   \n",
       "2  [-24.603676, -24.603714, -24.871029, -23.15277...   \n",
       "3  [-22.454607, -23.082819, -23.998013, -23.99805...   \n",
       "4  [-26.006956, -23.164886, -23.164886, -26.89116...   \n",
       "\n",
       "                                              band_2        id inc_angle  \\\n",
       "0  [-27.154118, -29.537888, -31.0306, -32.190483,...  dfd5f913   43.9239   \n",
       "1  [-31.506321, -27.984554, -26.645678, -23.76760...  e25388fd   38.1562   \n",
       "2  [-24.870956, -24.092632, -20.653963, -19.41104...  58b2aaa0   45.2859   \n",
       "3  [-27.889421, -27.519794, -27.165262, -29.10350...  4cfc3a18   43.8306   \n",
       "4  [-27.206915, -30.259186, -30.259186, -23.16495...  271f93f4   35.6256   \n",
       "\n",
       "   is_iceberg  \n",
       "0           0  \n",
       "1           0  \n",
       "2           1  \n",
       "3           0  \n",
       "4           0  "
      ]
     },
     "execution_count": 71,
     "metadata": {},
     "output_type": "execute_result"
    }
   ],
   "source": [
    "iceberg = pd.read_json(\"train.json\")\n",
    "iceberg.info()\n",
    "iceberg.head()"
   ]
  },
  {
   "cell_type": "code",
   "execution_count": 198,
   "metadata": {},
   "outputs": [
    {
     "name": "stdout",
     "output_type": "stream",
     "text": [
      "=== train data without na ===\n",
      "the number of train_data_without_na :  1471\n",
      "the number of is ice berg :  753\n",
      "the number of is not ice berg :  718\n",
      "=== train data set ===\n",
      "the number of is train data :  1029\n",
      "the number of is ice berg :  522\n",
      "the number of is not ice berg :  507\n",
      "=== valid data set ===\n",
      "the number of is valid data :  442\n",
      "the number of is ice berg :  231\n",
      "the number of is not ice berg :  211\n"
     ]
    }
   ],
   "source": [
    "from sklearn.model_selection import train_test_split\n",
    "# find null data for any column on each row  \n",
    "#na = iceberg[iceberg.isna().any(axis=1)]\n",
    "\n",
    "# filter out data when inc_angle equals 'na'\n",
    "print ('=== train data without na ===')\n",
    "train_data_without_na = iceberg[iceberg['inc_angle'] != 'na']\n",
    "is_iceberg = train_data_without_na[train_data_without_na['is_iceberg'] == 1]\n",
    "is_not_iceberg =  train_data_without_na[train_data_without_na['is_iceberg'] == 0]\n",
    "print ('the number of train_data_without_na : ', len(train_data_without_na))\n",
    "print ('the number of is ice berg : ', len(is_iceberg))\n",
    "print ('the number of is not ice berg : ', len(is_not_iceberg))\n",
    "\n",
    "#split data set into ice berg dataset and non ice berg dataset\n",
    "iceberg_data = train_data_without_na['is_iceberg']\n",
    "train_data, valid_data, train_iceberg, valid_iceberg = train_test_split(train_data_without_na, iceberg_data,test_size=0.3, random_state=42)\n",
    "print ('=== train data set ===')\n",
    "print ('the number of is train data : ', len(train_data))\n",
    "is_iceberg_train_data = train_data[train_data['is_iceberg'] == 1]\n",
    "is_not_iceberg_train_data =  train_data[train_data['is_iceberg'] == 0]\n",
    "print ('the number of is ice berg : ', len(is_iceberg_train_data))\n",
    "print ('the number of is not ice berg : ', len(is_not_iceberg_train_data))\n",
    "#print(train_data.head())\n",
    "\n",
    "print ('=== valid data set ===')\n",
    "print ('the number of is valid data : ', len(valid_data))\n",
    "is_iceberg_valid = valid_data[valid_data['is_iceberg'] == 1]\n",
    "is_not_iceberg_valid =  valid_data[valid_data['is_iceberg'] == 0]\n",
    "print ('the number of is ice berg : ', len(is_iceberg_valid))\n",
    "print ('the number of is not ice berg : ', len(is_not_iceberg_valid)) \n",
    "#print(valid_data.head())\n",
    " "
   ]
  },
  {
   "cell_type": "code",
   "execution_count": 147,
   "metadata": {
    "scrolled": true
   },
   "outputs": [
    {
     "name": "stdout",
     "output_type": "stream",
     "text": [
      "[[-27.878361 -27.15416  -28.668615 ... -25.573483 -26.488674 -30.507013]\n",
      " [-28.66853  -27.878401 -27.508776 ... -26.488632 -28.671562 -31.594166]\n",
      " [-28.66853  -27.15416  -25.865042 ... -27.157106 -27.881393 -32.837124]\n",
      " ...\n",
      " [-29.092905 -28.669163 -30.504612 ... -30.011005 -25.868538 -26.489265]\n",
      " [-31.591682 -27.878992 -28.669205 ... -27.512272 -26.817074 -27.512358]\n",
      " [-29.092905 -26.814081 -27.154791 ... -26.817032 -27.881983 -28.268127]]\n",
      "[[-27.154118 -29.537888 -31.0306   ... -29.095308 -29.540878 -27.511766]\n",
      " [-31.030518 -33.529335 -31.591175 ... -34.288055 -28.267496 -26.488716]\n",
      " [-33.529289 -37.051159 -31.591175 ... -31.594084 -32.19339  -29.54092 ]\n",
      " ...\n",
      " [-27.87895  -27.878992 -30.008141 ... -25.289221 -27.512272 -28.672153]\n",
      " [-29.538437 -29.538477 -29.092991 ... -28.672112 -28.268087 -33.532959]\n",
      " [-30.008057 -28.669163 -27.509365 ... -30.507519 -28.672153 -29.095982]]\n",
      "(1471, 75, 75) (1471, 75, 75)\n",
      "ice_band : (2, 1471, 75, 75)\n",
      "[[-27.878361 -27.15416  -28.668615 ... -25.573483 -26.488674 -30.507013]\n",
      " [-28.66853  -27.878401 -27.508776 ... -26.488632 -28.671562 -31.594166]\n",
      " [-28.66853  -27.15416  -25.865042 ... -27.157106 -27.881393 -32.837124]\n",
      " ...\n",
      " [-29.092905 -28.669163 -30.504612 ... -30.011005 -25.868538 -26.489265]\n",
      " [-31.591682 -27.878992 -28.669205 ... -27.512272 -26.817074 -27.512358]\n",
      " [-29.092905 -26.814081 -27.154791 ... -26.817032 -27.881983 -28.268127]]\n",
      "[[-27.154118 -29.537888 -31.0306   ... -29.095308 -29.540878 -27.511766]\n",
      " [-31.030518 -33.529335 -31.591175 ... -34.288055 -28.267496 -26.488716]\n",
      " [-33.529289 -37.051159 -31.591175 ... -31.594084 -32.19339  -29.54092 ]\n",
      " ...\n",
      " [-27.87895  -27.878992 -30.008141 ... -25.289221 -27.512272 -28.672153]\n",
      " [-29.538437 -29.538477 -29.092991 ... -28.672112 -28.268087 -33.532959]\n",
      " [-30.008057 -28.669163 -27.509365 ... -30.507519 -28.672153 -29.095982]]\n"
     ]
    }
   ],
   "source": [
    "IMAGE_WIDTH = 75 \n",
    "IMAGE_HEIGHT = 75\n",
    "\n",
    "def list_to_array(band1): \n",
    "    return np.array(band1).reshape(IMAGE_WIDTH, IMAGE_HEIGHT)\n",
    "\n",
    "ice_band_1 = np.array([band for band in train_data_without_na['band_1'].apply(list_to_array)]) \n",
    "ice_band_2 = np.array([band for band in train_data_without_na['band_2'].apply(list_to_array)]) \n",
    "\n",
    "print (ice_band_1[0])\n",
    "print (ice_band_2[0])\n",
    "ice_band = np.array([ice_band_1, ice_band_2]) \n",
    " \n",
    "print (ice_band_1.shape, ice_band_2.shape)\n",
    "print (\"ice_band :\", ice_band.shape)\n",
    "print(ice_band[0][0])\n",
    "print(ice_band[1][0])"
   ]
  },
  {
   "cell_type": "code",
   "execution_count": 199,
   "metadata": {},
   "outputs": [
    {
     "name": "stdout",
     "output_type": "stream",
     "text": [
      "ice_band_reshape: (1471, 75, 75, 2)\n",
      "-27.878360999999998\n",
      "-27.15416\n",
      "ice_band_new_concatenate: (1471, 75, 75, 2)\n",
      "-27.878360999999998\n",
      "-27.154118\n"
     ]
    }
   ],
   "source": [
    "ice_band_reshape = np.array([ice_band_1, ice_band_2]).reshape(-1, 75, 75, 2) \n",
    "print (\"ice_band_reshape:\", ice_band_reshape.shape)\n",
    "print (ice_band_reshape[0][0][0][0])\n",
    "print (ice_band_reshape[0][0][0][1])\n",
    "\n",
    "#ice_band_concatenate = np.concatenate([ice_band_1, ice_band_2], axis = -1)\n",
    "#print (\"ice_band_concatenate:\", ice_band_concatenate.shape)\n",
    "#print(ice_band_concatenate[0][:][:][0])\n",
    "#print(ice_band_concatenate[0][:][:][1])\n",
    "\n",
    "ice_band_new_concatenate = np.concatenate([ice_band_1[:,:,:,np.newaxis], ice_band_2[:,:,:,np.newaxis]], axis = -1)\n",
    "print (\"ice_band_new_concatenate:\", ice_band_new_concatenate.shape)\n",
    "print (ice_band_new_concatenate[0][0][0][0])\n",
    "print (ice_band_new_concatenate[0][0][0][1])"
   ]
  },
  {
   "cell_type": "code",
   "execution_count": null,
   "metadata": {},
   "outputs": [],
   "source": []
  },
  {
   "cell_type": "code",
   "execution_count": 4,
   "metadata": {},
   "outputs": [
    {
     "ename": "NameError",
     "evalue": "name 'x' is not defined",
     "output_type": "error",
     "traceback": [
      "\u001b[1;31m---------------------------------------------------------------------------\u001b[0m",
      "\u001b[1;31mNameError\u001b[0m                                 Traceback (most recent call last)",
      "\u001b[1;32m<ipython-input-4-d0004f6fb8c3>\u001b[0m in \u001b[0;36m<module>\u001b[1;34m()\u001b[0m\n\u001b[0;32m      2\u001b[0m \u001b[0mIMAGE_HEIGHT\u001b[0m \u001b[1;33m=\u001b[0m \u001b[1;36m72\u001b[0m\u001b[1;33m\u001b[0m\u001b[0m\n\u001b[0;32m      3\u001b[0m \u001b[1;33m\u001b[0m\u001b[0m\n\u001b[1;32m----> 4\u001b[1;33m \u001b[0mx\u001b[0m \u001b[1;33m=\u001b[0m \u001b[0mK\u001b[0m\u001b[1;33m.\u001b[0m\u001b[0mInput\u001b[0m \u001b[1;33m(\u001b[0m\u001b[0mshape\u001b[0m\u001b[1;33m=\u001b[0m\u001b[1;33m[\u001b[0m\u001b[1;32mNone\u001b[0m\u001b[1;33m,\u001b[0m \u001b[0mIMAGE_WIDTH\u001b[0m\u001b[1;33m,\u001b[0m \u001b[0mIMAGE_HEIGHT\u001b[0m\u001b[1;33m]\u001b[0m\u001b[1;33m)\u001b[0m\u001b[1;33m(\u001b[0m\u001b[0mx\u001b[0m\u001b[1;33m)\u001b[0m\u001b[1;33m\u001b[0m\u001b[0m\n\u001b[0m",
      "\u001b[1;31mNameError\u001b[0m: name 'x' is not defined"
     ]
    }
   ],
   "source": [
    "x = K.Input (shape=[None, IMAGE_WIDTH, IMAGE_HEIGHT, 2])(x)"
   ]
  }
 ],
 "metadata": {
  "kernelspec": {
   "display_name": "Python 3",
   "language": "python",
   "name": "python3"
  },
  "language_info": {
   "codemirror_mode": {
    "name": "ipython",
    "version": 3
   },
   "file_extension": ".py",
   "mimetype": "text/x-python",
   "name": "python",
   "nbconvert_exporter": "python",
   "pygments_lexer": "ipython3",
   "version": "3.6.6"
  }
 },
 "nbformat": 4,
 "nbformat_minor": 2
}
